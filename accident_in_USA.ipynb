{
 "cells": [
  {
   "cell_type": "code",
   "execution_count": 44,
   "id": "632d81fb-6bf8-4d38-be35-d9cd9b091f30",
   "metadata": {},
   "outputs": [],
   "source": [
    "import pandas as pd\n",
    "import seaborn as sns\n",
    "import folium"
   ]
  },
  {
   "cell_type": "code",
   "execution_count": 3,
   "id": "ce122fea-46bc-48df-800b-1bd5c2aa2105",
   "metadata": {},
   "outputs": [],
   "source": [
    "df = pd.read_csv('C:\\\\Users\\\\bchal\\\\OneDrive\\\\Documents\\\\stage ai\\\\Task 5\\\\US_Accidents_March23.csv')\n"
   ]
  },
  {
   "cell_type": "code",
   "execution_count": 4,
   "id": "eae182b1-402f-4f30-9e7e-d84f4f4acd69",
   "metadata": {},
   "outputs": [
    {
     "data": {
      "text/html": [
       "<div>\n",
       "<style scoped>\n",
       "    .dataframe tbody tr th:only-of-type {\n",
       "        vertical-align: middle;\n",
       "    }\n",
       "\n",
       "    .dataframe tbody tr th {\n",
       "        vertical-align: top;\n",
       "    }\n",
       "\n",
       "    .dataframe thead th {\n",
       "        text-align: right;\n",
       "    }\n",
       "</style>\n",
       "<table border=\"1\" class=\"dataframe\">\n",
       "  <thead>\n",
       "    <tr style=\"text-align: right;\">\n",
       "      <th></th>\n",
       "      <th>ID</th>\n",
       "      <th>Source</th>\n",
       "      <th>Severity</th>\n",
       "      <th>Start_Time</th>\n",
       "      <th>End_Time</th>\n",
       "      <th>Start_Lat</th>\n",
       "      <th>Start_Lng</th>\n",
       "      <th>End_Lat</th>\n",
       "      <th>End_Lng</th>\n",
       "      <th>Distance(mi)</th>\n",
       "      <th>Description</th>\n",
       "      <th>Street</th>\n",
       "      <th>City</th>\n",
       "      <th>County</th>\n",
       "      <th>State</th>\n",
       "      <th>Zipcode</th>\n",
       "      <th>Country</th>\n",
       "      <th>Timezone</th>\n",
       "      <th>Airport_Code</th>\n",
       "      <th>Weather_Timestamp</th>\n",
       "      <th>Temperature(F)</th>\n",
       "      <th>Wind_Chill(F)</th>\n",
       "      <th>Humidity(%)</th>\n",
       "      <th>Pressure(in)</th>\n",
       "      <th>Visibility(mi)</th>\n",
       "      <th>Wind_Direction</th>\n",
       "      <th>Wind_Speed(mph)</th>\n",
       "      <th>Precipitation(in)</th>\n",
       "      <th>Weather_Condition</th>\n",
       "      <th>Amenity</th>\n",
       "      <th>Bump</th>\n",
       "      <th>Crossing</th>\n",
       "      <th>Give_Way</th>\n",
       "      <th>Junction</th>\n",
       "      <th>No_Exit</th>\n",
       "      <th>Railway</th>\n",
       "      <th>Roundabout</th>\n",
       "      <th>Station</th>\n",
       "      <th>Stop</th>\n",
       "      <th>Traffic_Calming</th>\n",
       "      <th>Traffic_Signal</th>\n",
       "      <th>Turning_Loop</th>\n",
       "      <th>Sunrise_Sunset</th>\n",
       "      <th>Civil_Twilight</th>\n",
       "      <th>Nautical_Twilight</th>\n",
       "      <th>Astronomical_Twilight</th>\n",
       "    </tr>\n",
       "  </thead>\n",
       "  <tbody>\n",
       "    <tr>\n",
       "      <th>0</th>\n",
       "      <td>A-1</td>\n",
       "      <td>Source2</td>\n",
       "      <td>3</td>\n",
       "      <td>2016-02-08 05:46:00</td>\n",
       "      <td>2016-02-08 11:00:00</td>\n",
       "      <td>39.865147</td>\n",
       "      <td>-84.058723</td>\n",
       "      <td>NaN</td>\n",
       "      <td>NaN</td>\n",
       "      <td>0.010</td>\n",
       "      <td>Right lane blocked due to accident on I-70 Eas...</td>\n",
       "      <td>I-70 E</td>\n",
       "      <td>Dayton</td>\n",
       "      <td>Montgomery</td>\n",
       "      <td>OH</td>\n",
       "      <td>45424</td>\n",
       "      <td>US</td>\n",
       "      <td>US/Eastern</td>\n",
       "      <td>KFFO</td>\n",
       "      <td>2016-02-08 05:58:00</td>\n",
       "      <td>36.9</td>\n",
       "      <td>NaN</td>\n",
       "      <td>91.0</td>\n",
       "      <td>29.68</td>\n",
       "      <td>10.0</td>\n",
       "      <td>Calm</td>\n",
       "      <td>NaN</td>\n",
       "      <td>0.02</td>\n",
       "      <td>Light Rain</td>\n",
       "      <td>False</td>\n",
       "      <td>False</td>\n",
       "      <td>False</td>\n",
       "      <td>False</td>\n",
       "      <td>False</td>\n",
       "      <td>False</td>\n",
       "      <td>False</td>\n",
       "      <td>False</td>\n",
       "      <td>False</td>\n",
       "      <td>False</td>\n",
       "      <td>False</td>\n",
       "      <td>False</td>\n",
       "      <td>False</td>\n",
       "      <td>Night</td>\n",
       "      <td>Night</td>\n",
       "      <td>Night</td>\n",
       "      <td>Night</td>\n",
       "    </tr>\n",
       "    <tr>\n",
       "      <th>1</th>\n",
       "      <td>A-2</td>\n",
       "      <td>Source2</td>\n",
       "      <td>2</td>\n",
       "      <td>2016-02-08 06:07:59</td>\n",
       "      <td>2016-02-08 06:37:59</td>\n",
       "      <td>39.928059</td>\n",
       "      <td>-82.831184</td>\n",
       "      <td>NaN</td>\n",
       "      <td>NaN</td>\n",
       "      <td>0.010</td>\n",
       "      <td>Accident on Brice Rd at Tussing Rd. Expect del...</td>\n",
       "      <td>Brice Rd</td>\n",
       "      <td>Reynoldsburg</td>\n",
       "      <td>Franklin</td>\n",
       "      <td>OH</td>\n",
       "      <td>43068-3402</td>\n",
       "      <td>US</td>\n",
       "      <td>US/Eastern</td>\n",
       "      <td>KCMH</td>\n",
       "      <td>2016-02-08 05:51:00</td>\n",
       "      <td>37.9</td>\n",
       "      <td>NaN</td>\n",
       "      <td>100.0</td>\n",
       "      <td>29.65</td>\n",
       "      <td>10.0</td>\n",
       "      <td>Calm</td>\n",
       "      <td>NaN</td>\n",
       "      <td>0.00</td>\n",
       "      <td>Light Rain</td>\n",
       "      <td>False</td>\n",
       "      <td>False</td>\n",
       "      <td>False</td>\n",
       "      <td>False</td>\n",
       "      <td>False</td>\n",
       "      <td>False</td>\n",
       "      <td>False</td>\n",
       "      <td>False</td>\n",
       "      <td>False</td>\n",
       "      <td>False</td>\n",
       "      <td>False</td>\n",
       "      <td>False</td>\n",
       "      <td>False</td>\n",
       "      <td>Night</td>\n",
       "      <td>Night</td>\n",
       "      <td>Night</td>\n",
       "      <td>Day</td>\n",
       "    </tr>\n",
       "    <tr>\n",
       "      <th>2</th>\n",
       "      <td>A-3</td>\n",
       "      <td>Source2</td>\n",
       "      <td>2</td>\n",
       "      <td>2016-02-08 06:49:27</td>\n",
       "      <td>2016-02-08 07:19:27</td>\n",
       "      <td>39.063148</td>\n",
       "      <td>-84.032608</td>\n",
       "      <td>NaN</td>\n",
       "      <td>NaN</td>\n",
       "      <td>0.010</td>\n",
       "      <td>Accident on OH-32 State Route 32 Westbound at ...</td>\n",
       "      <td>State Route 32</td>\n",
       "      <td>Williamsburg</td>\n",
       "      <td>Clermont</td>\n",
       "      <td>OH</td>\n",
       "      <td>45176</td>\n",
       "      <td>US</td>\n",
       "      <td>US/Eastern</td>\n",
       "      <td>KI69</td>\n",
       "      <td>2016-02-08 06:56:00</td>\n",
       "      <td>36.0</td>\n",
       "      <td>33.3</td>\n",
       "      <td>100.0</td>\n",
       "      <td>29.67</td>\n",
       "      <td>10.0</td>\n",
       "      <td>SW</td>\n",
       "      <td>3.5</td>\n",
       "      <td>NaN</td>\n",
       "      <td>Overcast</td>\n",
       "      <td>False</td>\n",
       "      <td>False</td>\n",
       "      <td>False</td>\n",
       "      <td>False</td>\n",
       "      <td>False</td>\n",
       "      <td>False</td>\n",
       "      <td>False</td>\n",
       "      <td>False</td>\n",
       "      <td>False</td>\n",
       "      <td>False</td>\n",
       "      <td>False</td>\n",
       "      <td>True</td>\n",
       "      <td>False</td>\n",
       "      <td>Night</td>\n",
       "      <td>Night</td>\n",
       "      <td>Day</td>\n",
       "      <td>Day</td>\n",
       "    </tr>\n",
       "    <tr>\n",
       "      <th>3</th>\n",
       "      <td>A-4</td>\n",
       "      <td>Source2</td>\n",
       "      <td>3</td>\n",
       "      <td>2016-02-08 07:23:34</td>\n",
       "      <td>2016-02-08 07:53:34</td>\n",
       "      <td>39.747753</td>\n",
       "      <td>-84.205582</td>\n",
       "      <td>NaN</td>\n",
       "      <td>NaN</td>\n",
       "      <td>0.010</td>\n",
       "      <td>Accident on I-75 Southbound at Exits 52 52B US...</td>\n",
       "      <td>I-75 S</td>\n",
       "      <td>Dayton</td>\n",
       "      <td>Montgomery</td>\n",
       "      <td>OH</td>\n",
       "      <td>45417</td>\n",
       "      <td>US</td>\n",
       "      <td>US/Eastern</td>\n",
       "      <td>KDAY</td>\n",
       "      <td>2016-02-08 07:38:00</td>\n",
       "      <td>35.1</td>\n",
       "      <td>31.0</td>\n",
       "      <td>96.0</td>\n",
       "      <td>29.64</td>\n",
       "      <td>9.0</td>\n",
       "      <td>SW</td>\n",
       "      <td>4.6</td>\n",
       "      <td>NaN</td>\n",
       "      <td>Mostly Cloudy</td>\n",
       "      <td>False</td>\n",
       "      <td>False</td>\n",
       "      <td>False</td>\n",
       "      <td>False</td>\n",
       "      <td>False</td>\n",
       "      <td>False</td>\n",
       "      <td>False</td>\n",
       "      <td>False</td>\n",
       "      <td>False</td>\n",
       "      <td>False</td>\n",
       "      <td>False</td>\n",
       "      <td>False</td>\n",
       "      <td>False</td>\n",
       "      <td>Night</td>\n",
       "      <td>Day</td>\n",
       "      <td>Day</td>\n",
       "      <td>Day</td>\n",
       "    </tr>\n",
       "    <tr>\n",
       "      <th>4</th>\n",
       "      <td>A-5</td>\n",
       "      <td>Source2</td>\n",
       "      <td>2</td>\n",
       "      <td>2016-02-08 07:39:07</td>\n",
       "      <td>2016-02-08 08:09:07</td>\n",
       "      <td>39.627781</td>\n",
       "      <td>-84.188354</td>\n",
       "      <td>NaN</td>\n",
       "      <td>NaN</td>\n",
       "      <td>0.010</td>\n",
       "      <td>Accident on McEwen Rd at OH-725 Miamisburg Cen...</td>\n",
       "      <td>Miamisburg Centerville Rd</td>\n",
       "      <td>Dayton</td>\n",
       "      <td>Montgomery</td>\n",
       "      <td>OH</td>\n",
       "      <td>45459</td>\n",
       "      <td>US</td>\n",
       "      <td>US/Eastern</td>\n",
       "      <td>KMGY</td>\n",
       "      <td>2016-02-08 07:53:00</td>\n",
       "      <td>36.0</td>\n",
       "      <td>33.3</td>\n",
       "      <td>89.0</td>\n",
       "      <td>29.65</td>\n",
       "      <td>6.0</td>\n",
       "      <td>SW</td>\n",
       "      <td>3.5</td>\n",
       "      <td>NaN</td>\n",
       "      <td>Mostly Cloudy</td>\n",
       "      <td>False</td>\n",
       "      <td>False</td>\n",
       "      <td>False</td>\n",
       "      <td>False</td>\n",
       "      <td>False</td>\n",
       "      <td>False</td>\n",
       "      <td>False</td>\n",
       "      <td>False</td>\n",
       "      <td>False</td>\n",
       "      <td>False</td>\n",
       "      <td>False</td>\n",
       "      <td>True</td>\n",
       "      <td>False</td>\n",
       "      <td>Day</td>\n",
       "      <td>Day</td>\n",
       "      <td>Day</td>\n",
       "      <td>Day</td>\n",
       "    </tr>\n",
       "    <tr>\n",
       "      <th>...</th>\n",
       "      <td>...</td>\n",
       "      <td>...</td>\n",
       "      <td>...</td>\n",
       "      <td>...</td>\n",
       "      <td>...</td>\n",
       "      <td>...</td>\n",
       "      <td>...</td>\n",
       "      <td>...</td>\n",
       "      <td>...</td>\n",
       "      <td>...</td>\n",
       "      <td>...</td>\n",
       "      <td>...</td>\n",
       "      <td>...</td>\n",
       "      <td>...</td>\n",
       "      <td>...</td>\n",
       "      <td>...</td>\n",
       "      <td>...</td>\n",
       "      <td>...</td>\n",
       "      <td>...</td>\n",
       "      <td>...</td>\n",
       "      <td>...</td>\n",
       "      <td>...</td>\n",
       "      <td>...</td>\n",
       "      <td>...</td>\n",
       "      <td>...</td>\n",
       "      <td>...</td>\n",
       "      <td>...</td>\n",
       "      <td>...</td>\n",
       "      <td>...</td>\n",
       "      <td>...</td>\n",
       "      <td>...</td>\n",
       "      <td>...</td>\n",
       "      <td>...</td>\n",
       "      <td>...</td>\n",
       "      <td>...</td>\n",
       "      <td>...</td>\n",
       "      <td>...</td>\n",
       "      <td>...</td>\n",
       "      <td>...</td>\n",
       "      <td>...</td>\n",
       "      <td>...</td>\n",
       "      <td>...</td>\n",
       "      <td>...</td>\n",
       "      <td>...</td>\n",
       "      <td>...</td>\n",
       "      <td>...</td>\n",
       "    </tr>\n",
       "    <tr>\n",
       "      <th>7728389</th>\n",
       "      <td>A-7777757</td>\n",
       "      <td>Source1</td>\n",
       "      <td>2</td>\n",
       "      <td>2019-08-23 18:03:25</td>\n",
       "      <td>2019-08-23 18:32:01</td>\n",
       "      <td>34.002480</td>\n",
       "      <td>-117.379360</td>\n",
       "      <td>33.99888</td>\n",
       "      <td>-117.37094</td>\n",
       "      <td>0.543</td>\n",
       "      <td>At Market St - Accident.</td>\n",
       "      <td>Pomona Fwy E</td>\n",
       "      <td>Riverside</td>\n",
       "      <td>Riverside</td>\n",
       "      <td>CA</td>\n",
       "      <td>92501</td>\n",
       "      <td>US</td>\n",
       "      <td>US/Pacific</td>\n",
       "      <td>KRAL</td>\n",
       "      <td>2019-08-23 17:53:00</td>\n",
       "      <td>86.0</td>\n",
       "      <td>86.0</td>\n",
       "      <td>40.0</td>\n",
       "      <td>28.92</td>\n",
       "      <td>10.0</td>\n",
       "      <td>W</td>\n",
       "      <td>13.0</td>\n",
       "      <td>0.00</td>\n",
       "      <td>Fair</td>\n",
       "      <td>False</td>\n",
       "      <td>False</td>\n",
       "      <td>False</td>\n",
       "      <td>False</td>\n",
       "      <td>False</td>\n",
       "      <td>False</td>\n",
       "      <td>False</td>\n",
       "      <td>False</td>\n",
       "      <td>False</td>\n",
       "      <td>False</td>\n",
       "      <td>False</td>\n",
       "      <td>False</td>\n",
       "      <td>False</td>\n",
       "      <td>Day</td>\n",
       "      <td>Day</td>\n",
       "      <td>Day</td>\n",
       "      <td>Day</td>\n",
       "    </tr>\n",
       "    <tr>\n",
       "      <th>7728390</th>\n",
       "      <td>A-7777758</td>\n",
       "      <td>Source1</td>\n",
       "      <td>2</td>\n",
       "      <td>2019-08-23 19:11:30</td>\n",
       "      <td>2019-08-23 19:38:23</td>\n",
       "      <td>32.766960</td>\n",
       "      <td>-117.148060</td>\n",
       "      <td>32.76555</td>\n",
       "      <td>-117.15363</td>\n",
       "      <td>0.338</td>\n",
       "      <td>At Camino Del Rio/Mission Center Rd - Accident.</td>\n",
       "      <td>I-8 W</td>\n",
       "      <td>San Diego</td>\n",
       "      <td>San Diego</td>\n",
       "      <td>CA</td>\n",
       "      <td>92108</td>\n",
       "      <td>US</td>\n",
       "      <td>US/Pacific</td>\n",
       "      <td>KMYF</td>\n",
       "      <td>2019-08-23 18:53:00</td>\n",
       "      <td>70.0</td>\n",
       "      <td>70.0</td>\n",
       "      <td>73.0</td>\n",
       "      <td>29.39</td>\n",
       "      <td>10.0</td>\n",
       "      <td>SW</td>\n",
       "      <td>6.0</td>\n",
       "      <td>0.00</td>\n",
       "      <td>Fair</td>\n",
       "      <td>False</td>\n",
       "      <td>False</td>\n",
       "      <td>False</td>\n",
       "      <td>False</td>\n",
       "      <td>False</td>\n",
       "      <td>False</td>\n",
       "      <td>False</td>\n",
       "      <td>False</td>\n",
       "      <td>False</td>\n",
       "      <td>False</td>\n",
       "      <td>False</td>\n",
       "      <td>False</td>\n",
       "      <td>False</td>\n",
       "      <td>Day</td>\n",
       "      <td>Day</td>\n",
       "      <td>Day</td>\n",
       "      <td>Day</td>\n",
       "    </tr>\n",
       "    <tr>\n",
       "      <th>7728391</th>\n",
       "      <td>A-7777759</td>\n",
       "      <td>Source1</td>\n",
       "      <td>2</td>\n",
       "      <td>2019-08-23 19:00:21</td>\n",
       "      <td>2019-08-23 19:28:49</td>\n",
       "      <td>33.775450</td>\n",
       "      <td>-117.847790</td>\n",
       "      <td>33.77740</td>\n",
       "      <td>-117.85727</td>\n",
       "      <td>0.561</td>\n",
       "      <td>At Glassell St/Grand Ave - Accident. in the ri...</td>\n",
       "      <td>Garden Grove Fwy</td>\n",
       "      <td>Orange</td>\n",
       "      <td>Orange</td>\n",
       "      <td>CA</td>\n",
       "      <td>92866</td>\n",
       "      <td>US</td>\n",
       "      <td>US/Pacific</td>\n",
       "      <td>KSNA</td>\n",
       "      <td>2019-08-23 18:53:00</td>\n",
       "      <td>73.0</td>\n",
       "      <td>73.0</td>\n",
       "      <td>64.0</td>\n",
       "      <td>29.74</td>\n",
       "      <td>10.0</td>\n",
       "      <td>SSW</td>\n",
       "      <td>10.0</td>\n",
       "      <td>0.00</td>\n",
       "      <td>Partly Cloudy</td>\n",
       "      <td>False</td>\n",
       "      <td>False</td>\n",
       "      <td>False</td>\n",
       "      <td>False</td>\n",
       "      <td>True</td>\n",
       "      <td>False</td>\n",
       "      <td>False</td>\n",
       "      <td>False</td>\n",
       "      <td>False</td>\n",
       "      <td>False</td>\n",
       "      <td>False</td>\n",
       "      <td>False</td>\n",
       "      <td>False</td>\n",
       "      <td>Day</td>\n",
       "      <td>Day</td>\n",
       "      <td>Day</td>\n",
       "      <td>Day</td>\n",
       "    </tr>\n",
       "    <tr>\n",
       "      <th>7728392</th>\n",
       "      <td>A-7777760</td>\n",
       "      <td>Source1</td>\n",
       "      <td>2</td>\n",
       "      <td>2019-08-23 19:00:21</td>\n",
       "      <td>2019-08-23 19:29:42</td>\n",
       "      <td>33.992460</td>\n",
       "      <td>-118.403020</td>\n",
       "      <td>33.98311</td>\n",
       "      <td>-118.39565</td>\n",
       "      <td>0.772</td>\n",
       "      <td>At CA-90/Marina Fwy/Jefferson Blvd - Accident.</td>\n",
       "      <td>San Diego Fwy S</td>\n",
       "      <td>Culver City</td>\n",
       "      <td>Los Angeles</td>\n",
       "      <td>CA</td>\n",
       "      <td>90230</td>\n",
       "      <td>US</td>\n",
       "      <td>US/Pacific</td>\n",
       "      <td>KSMO</td>\n",
       "      <td>2019-08-23 18:51:00</td>\n",
       "      <td>71.0</td>\n",
       "      <td>71.0</td>\n",
       "      <td>81.0</td>\n",
       "      <td>29.62</td>\n",
       "      <td>10.0</td>\n",
       "      <td>SW</td>\n",
       "      <td>8.0</td>\n",
       "      <td>0.00</td>\n",
       "      <td>Fair</td>\n",
       "      <td>False</td>\n",
       "      <td>False</td>\n",
       "      <td>False</td>\n",
       "      <td>False</td>\n",
       "      <td>False</td>\n",
       "      <td>False</td>\n",
       "      <td>False</td>\n",
       "      <td>False</td>\n",
       "      <td>False</td>\n",
       "      <td>False</td>\n",
       "      <td>False</td>\n",
       "      <td>False</td>\n",
       "      <td>False</td>\n",
       "      <td>Day</td>\n",
       "      <td>Day</td>\n",
       "      <td>Day</td>\n",
       "      <td>Day</td>\n",
       "    </tr>\n",
       "    <tr>\n",
       "      <th>7728393</th>\n",
       "      <td>A-7777761</td>\n",
       "      <td>Source1</td>\n",
       "      <td>2</td>\n",
       "      <td>2019-08-23 18:52:06</td>\n",
       "      <td>2019-08-23 19:21:31</td>\n",
       "      <td>34.133930</td>\n",
       "      <td>-117.230920</td>\n",
       "      <td>34.13736</td>\n",
       "      <td>-117.23934</td>\n",
       "      <td>0.537</td>\n",
       "      <td>At Highland Ave/Arden Ave - Accident.</td>\n",
       "      <td>CA-210 W</td>\n",
       "      <td>Highland</td>\n",
       "      <td>San Bernardino</td>\n",
       "      <td>CA</td>\n",
       "      <td>92346</td>\n",
       "      <td>US</td>\n",
       "      <td>US/Pacific</td>\n",
       "      <td>KSBD</td>\n",
       "      <td>2019-08-23 20:50:00</td>\n",
       "      <td>79.0</td>\n",
       "      <td>79.0</td>\n",
       "      <td>47.0</td>\n",
       "      <td>28.63</td>\n",
       "      <td>7.0</td>\n",
       "      <td>SW</td>\n",
       "      <td>7.0</td>\n",
       "      <td>0.00</td>\n",
       "      <td>Fair</td>\n",
       "      <td>False</td>\n",
       "      <td>False</td>\n",
       "      <td>False</td>\n",
       "      <td>False</td>\n",
       "      <td>False</td>\n",
       "      <td>False</td>\n",
       "      <td>False</td>\n",
       "      <td>False</td>\n",
       "      <td>False</td>\n",
       "      <td>False</td>\n",
       "      <td>False</td>\n",
       "      <td>False</td>\n",
       "      <td>False</td>\n",
       "      <td>Day</td>\n",
       "      <td>Day</td>\n",
       "      <td>Day</td>\n",
       "      <td>Day</td>\n",
       "    </tr>\n",
       "  </tbody>\n",
       "</table>\n",
       "<p>7728394 rows × 46 columns</p>\n",
       "</div>"
      ],
      "text/plain": [
       "                ID   Source  ...  Nautical_Twilight Astronomical_Twilight\n",
       "0              A-1  Source2  ...              Night                 Night\n",
       "1              A-2  Source2  ...              Night                   Day\n",
       "2              A-3  Source2  ...                Day                   Day\n",
       "3              A-4  Source2  ...                Day                   Day\n",
       "4              A-5  Source2  ...                Day                   Day\n",
       "...            ...      ...  ...                ...                   ...\n",
       "7728389  A-7777757  Source1  ...                Day                   Day\n",
       "7728390  A-7777758  Source1  ...                Day                   Day\n",
       "7728391  A-7777759  Source1  ...                Day                   Day\n",
       "7728392  A-7777760  Source1  ...                Day                   Day\n",
       "7728393  A-7777761  Source1  ...                Day                   Day\n",
       "\n",
       "[7728394 rows x 46 columns]"
      ]
     },
     "execution_count": 4,
     "metadata": {},
     "output_type": "execute_result"
    }
   ],
   "source": [
    "df"
   ]
  },
  {
   "cell_type": "code",
   "execution_count": 5,
   "id": "3101f47d-c201-4d11-b5c2-82deeb72029a",
   "metadata": {},
   "outputs": [
    {
     "data": {
      "text/plain": [
       "Index(['ID', 'Source', 'Severity', 'Start_Time', 'End_Time', 'Start_Lat',\n",
       "       'Start_Lng', 'End_Lat', 'End_Lng', 'Distance(mi)', 'Description',\n",
       "       'Street', 'City', 'County', 'State', 'Zipcode', 'Country', 'Timezone',\n",
       "       'Airport_Code', 'Weather_Timestamp', 'Temperature(F)', 'Wind_Chill(F)',\n",
       "       'Humidity(%)', 'Pressure(in)', 'Visibility(mi)', 'Wind_Direction',\n",
       "       'Wind_Speed(mph)', 'Precipitation(in)', 'Weather_Condition', 'Amenity',\n",
       "       'Bump', 'Crossing', 'Give_Way', 'Junction', 'No_Exit', 'Railway',\n",
       "       'Roundabout', 'Station', 'Stop', 'Traffic_Calming', 'Traffic_Signal',\n",
       "       'Turning_Loop', 'Sunrise_Sunset', 'Civil_Twilight', 'Nautical_Twilight',\n",
       "       'Astronomical_Twilight'],\n",
       "      dtype='object')"
      ]
     },
     "execution_count": 5,
     "metadata": {},
     "output_type": "execute_result"
    }
   ],
   "source": [
    "df.columns"
   ]
  },
  {
   "cell_type": "code",
   "execution_count": 6,
   "id": "e465fd95-89b5-4b84-8957-1600842f5bcb",
   "metadata": {},
   "outputs": [
    {
     "data": {
      "text/plain": [
       "46"
      ]
     },
     "execution_count": 6,
     "metadata": {},
     "output_type": "execute_result"
    }
   ],
   "source": [
    "len(df.columns)"
   ]
  },
  {
   "cell_type": "code",
   "execution_count": 7,
   "id": "c9978b19-63f2-4626-8cb5-a43c99adbdbf",
   "metadata": {},
   "outputs": [
    {
     "data": {
      "text/plain": [
       "7728394"
      ]
     },
     "execution_count": 7,
     "metadata": {},
     "output_type": "execute_result"
    }
   ],
   "source": [
    "len(df)"
   ]
  },
  {
   "cell_type": "code",
   "execution_count": 8,
   "id": "54da7065-8ea9-4859-bca0-90ecb6c4fa0b",
   "metadata": {},
   "outputs": [
    {
     "name": "stdout",
     "output_type": "stream",
     "text": [
      "<class 'pandas.core.frame.DataFrame'>\n",
      "RangeIndex: 7728394 entries, 0 to 7728393\n",
      "Data columns (total 46 columns):\n",
      " #   Column                 Dtype  \n",
      "---  ------                 -----  \n",
      " 0   ID                     object \n",
      " 1   Source                 object \n",
      " 2   Severity               int64  \n",
      " 3   Start_Time             object \n",
      " 4   End_Time               object \n",
      " 5   Start_Lat              float64\n",
      " 6   Start_Lng              float64\n",
      " 7   End_Lat                float64\n",
      " 8   End_Lng                float64\n",
      " 9   Distance(mi)           float64\n",
      " 10  Description            object \n",
      " 11  Street                 object \n",
      " 12  City                   object \n",
      " 13  County                 object \n",
      " 14  State                  object \n",
      " 15  Zipcode                object \n",
      " 16  Country                object \n",
      " 17  Timezone               object \n",
      " 18  Airport_Code           object \n",
      " 19  Weather_Timestamp      object \n",
      " 20  Temperature(F)         float64\n",
      " 21  Wind_Chill(F)          float64\n",
      " 22  Humidity(%)            float64\n",
      " 23  Pressure(in)           float64\n",
      " 24  Visibility(mi)         float64\n",
      " 25  Wind_Direction         object \n",
      " 26  Wind_Speed(mph)        float64\n",
      " 27  Precipitation(in)      float64\n",
      " 28  Weather_Condition      object \n",
      " 29  Amenity                bool   \n",
      " 30  Bump                   bool   \n",
      " 31  Crossing               bool   \n",
      " 32  Give_Way               bool   \n",
      " 33  Junction               bool   \n",
      " 34  No_Exit                bool   \n",
      " 35  Railway                bool   \n",
      " 36  Roundabout             bool   \n",
      " 37  Station                bool   \n",
      " 38  Stop                   bool   \n",
      " 39  Traffic_Calming        bool   \n",
      " 40  Traffic_Signal         bool   \n",
      " 41  Turning_Loop           bool   \n",
      " 42  Sunrise_Sunset         object \n",
      " 43  Civil_Twilight         object \n",
      " 44  Nautical_Twilight      object \n",
      " 45  Astronomical_Twilight  object \n",
      "dtypes: bool(13), float64(12), int64(1), object(20)\n",
      "memory usage: 2.0+ GB\n"
     ]
    }
   ],
   "source": [
    "df.info()"
   ]
  },
  {
   "cell_type": "code",
   "execution_count": 9,
   "id": "6ae48b5a-b581-4e8c-ac91-495915414a61",
   "metadata": {},
   "outputs": [
    {
     "data": {
      "text/plain": [
       "13"
      ]
     },
     "execution_count": 9,
     "metadata": {},
     "output_type": "execute_result"
    }
   ],
   "source": [
    "numerics = ['int16', 'int32', 'int64', 'float16', 'float32', 'float64']\n",
    "\n",
    "numeric_df = df.select_dtypes(include=numerics)\n",
    "len(numeric_df.columns)"
   ]
  },
  {
   "cell_type": "code",
   "execution_count": 10,
   "id": "8bd78d7b-328b-40f6-9272-651cf998d4ab",
   "metadata": {},
   "outputs": [
    {
     "data": {
      "text/plain": [
       "ID                             0\n",
       "Source                         0\n",
       "Severity                       0\n",
       "Start_Time                     0\n",
       "End_Time                       0\n",
       "Start_Lat                      0\n",
       "Start_Lng                      0\n",
       "End_Lat                  3402762\n",
       "End_Lng                  3402762\n",
       "Distance(mi)                   0\n",
       "Description                    5\n",
       "Street                     10869\n",
       "City                         253\n",
       "County                         0\n",
       "State                          0\n",
       "Zipcode                     1915\n",
       "Country                        0\n",
       "Timezone                    7808\n",
       "Airport_Code               22635\n",
       "Weather_Timestamp         120228\n",
       "Temperature(F)            163853\n",
       "Wind_Chill(F)            1999019\n",
       "Humidity(%)               174144\n",
       "Pressure(in)              140679\n",
       "Visibility(mi)            177098\n",
       "Wind_Direction            175206\n",
       "Wind_Speed(mph)           571233\n",
       "Precipitation(in)        2203586\n",
       "Weather_Condition         173459\n",
       "Amenity                        0\n",
       "Bump                           0\n",
       "Crossing                       0\n",
       "Give_Way                       0\n",
       "Junction                       0\n",
       "No_Exit                        0\n",
       "Railway                        0\n",
       "Roundabout                     0\n",
       "Station                        0\n",
       "Stop                           0\n",
       "Traffic_Calming                0\n",
       "Traffic_Signal                 0\n",
       "Turning_Loop                   0\n",
       "Sunrise_Sunset             23246\n",
       "Civil_Twilight             23246\n",
       "Nautical_Twilight          23246\n",
       "Astronomical_Twilight      23246\n",
       "dtype: int64"
      ]
     },
     "execution_count": 10,
     "metadata": {},
     "output_type": "execute_result"
    }
   ],
   "source": [
    "df.isna().sum()"
   ]
  },
  {
   "cell_type": "code",
   "execution_count": 11,
   "id": "222ffa45-586e-489a-b8bd-055e3aec55c2",
   "metadata": {},
   "outputs": [
    {
     "data": {
      "text/plain": [
       "End_Lat                  44.029355\n",
       "End_Lng                  44.029355\n",
       "Precipitation(in)        28.512858\n",
       "Wind_Chill(F)            25.865904\n",
       "Wind_Speed(mph)           7.391355\n",
       "Visibility(mi)            2.291524\n",
       "Wind_Direction            2.267043\n",
       "Humidity(%)               2.253301\n",
       "Weather_Condition         2.244438\n",
       "Temperature(F)            2.120143\n",
       "Pressure(in)              1.820288\n",
       "Weather_Timestamp         1.555666\n",
       "Nautical_Twilight         0.300787\n",
       "Civil_Twilight            0.300787\n",
       "Sunrise_Sunset            0.300787\n",
       "Astronomical_Twilight     0.300787\n",
       "Airport_Code              0.292881\n",
       "Street                    0.140637\n",
       "Timezone                  0.101030\n",
       "Zipcode                   0.024779\n",
       "City                      0.003274\n",
       "Description               0.000065\n",
       "Traffic_Signal            0.000000\n",
       "Roundabout                0.000000\n",
       "Station                   0.000000\n",
       "Stop                      0.000000\n",
       "Traffic_Calming           0.000000\n",
       "Country                   0.000000\n",
       "Turning_Loop              0.000000\n",
       "No_Exit                   0.000000\n",
       "End_Time                  0.000000\n",
       "Start_Time                0.000000\n",
       "Severity                  0.000000\n",
       "Railway                   0.000000\n",
       "Crossing                  0.000000\n",
       "Junction                  0.000000\n",
       "Give_Way                  0.000000\n",
       "Bump                      0.000000\n",
       "Amenity                   0.000000\n",
       "Start_Lat                 0.000000\n",
       "Start_Lng                 0.000000\n",
       "Distance(mi)              0.000000\n",
       "Source                    0.000000\n",
       "County                    0.000000\n",
       "State                     0.000000\n",
       "ID                        0.000000\n",
       "dtype: float64"
      ]
     },
     "execution_count": 11,
     "metadata": {},
     "output_type": "execute_result"
    }
   ],
   "source": [
    "missing_percentage = df.isna().sum().sort_values(ascending = False) / len(df) * 100\n",
    "missing_percentage"
   ]
  },
  {
   "cell_type": "code",
   "execution_count": 14,
   "id": "c239213a-cec2-4a7b-9412-78ac9572f39d",
   "metadata": {},
   "outputs": [
    {
     "data": {
      "text/plain": [
       "<Axes: >"
      ]
     },
     "execution_count": 14,
     "metadata": {},
     "output_type": "execute_result"
    },
    {
     "data": {
      "image/png": "[encoded data removed]",
      "text/plain": [
       "<Figure size 432x288 with 1 Axes>"
      ]
     },
     "metadata": {},
     "output_type": "display_data"
    }
   ],
   "source": [
    "missing_percentage[missing_percentage !=0].plot(kind=\"barh\")"
   ]
  },
  {
   "cell_type": "markdown",
   "id": "9807a9c4-a240-4145-aad3-be2a42c981e1",
   "metadata": {},
   "source": [
    "Exploratory Analysis and Data Visualization:\n",
    "Columns we'll Analyze:\n",
    "\n",
    "City\n",
    "Start Time\n",
    "Start Lng, Start Lat\n",
    "Temperature\n",
    "Weather Condition"
   ]
  },
  {
   "cell_type": "code",
   "execution_count": 15,
   "id": "1f5138c2-2043-4241-b584-0b512d290894",
   "metadata": {},
   "outputs": [
    {
     "data": {
      "text/plain": [
       "Index(['ID', 'Source', 'Severity', 'Start_Time', 'End_Time', 'Start_Lat',\n",
       "       'Start_Lng', 'End_Lat', 'End_Lng', 'Distance(mi)', 'Description',\n",
       "       'Street', 'City', 'County', 'State', 'Zipcode', 'Country', 'Timezone',\n",
       "       'Airport_Code', 'Weather_Timestamp', 'Temperature(F)', 'Wind_Chill(F)',\n",
       "       'Humidity(%)', 'Pressure(in)', 'Visibility(mi)', 'Wind_Direction',\n",
       "       'Wind_Speed(mph)', 'Precipitation(in)', 'Weather_Condition', 'Amenity',\n",
       "       'Bump', 'Crossing', 'Give_Way', 'Junction', 'No_Exit', 'Railway',\n",
       "       'Roundabout', 'Station', 'Stop', 'Traffic_Calming', 'Traffic_Signal',\n",
       "       'Turning_Loop', 'Sunrise_Sunset', 'Civil_Twilight', 'Nautical_Twilight',\n",
       "       'Astronomical_Twilight'],\n",
       "      dtype='object')"
      ]
     },
     "execution_count": 15,
     "metadata": {},
     "output_type": "execute_result"
    }
   ],
   "source": [
    "df.columns"
   ]
  },
  {
   "cell_type": "code",
   "execution_count": 16,
   "id": "b8c2afb4-ea88-4ecd-a93b-522696a2f45b",
   "metadata": {},
   "outputs": [
    {
     "data": {
      "text/plain": [
       "13679"
      ]
     },
     "execution_count": 16,
     "metadata": {},
     "output_type": "execute_result"
    }
   ],
   "source": [
    "cities = df.City.unique()\n",
    "len(cities)"
   ]
  },
  {
   "cell_type": "code",
   "execution_count": 17,
   "id": "f568c829-2ff0-4a55-8f56-7c0eff13f435",
   "metadata": {},
   "outputs": [
    {
     "data": {
      "text/plain": [
       "City\n",
       "Miami                           186917\n",
       "Houston                         169609\n",
       "Los Angeles                     156491\n",
       "Charlotte                       138652\n",
       "Dallas                          130939\n",
       "                                 ...  \n",
       "Benkelman                            1\n",
       "Old Appleton                         1\n",
       "Wildrose                             1\n",
       "Mc Nabb                              1\n",
       "American Fork-Pleasant Grove         1\n",
       "Name: count, Length: 13678, dtype: int64"
      ]
     },
     "execution_count": 17,
     "metadata": {},
     "output_type": "execute_result"
    }
   ],
   "source": [
    "cities_by_accident = df.City.value_counts()\n",
    "cities_by_accident"
   ]
  },
  {
   "cell_type": "code",
   "execution_count": 18,
   "id": "0dcb7b12-5153-44aa-8373-e2a645922306",
   "metadata": {},
   "outputs": [
    {
     "data": {
      "text/plain": [
       "City\n",
       "Miami            186917\n",
       "Houston          169609\n",
       "Los Angeles      156491\n",
       "Charlotte        138652\n",
       "Dallas           130939\n",
       "Orlando          109733\n",
       "Austin            97359\n",
       "Raleigh           86079\n",
       "Nashville         72930\n",
       "Baton Rouge       71588\n",
       "Atlanta           68186\n",
       "Sacramento        66264\n",
       "San Diego         55504\n",
       "Phoenix           53974\n",
       "Minneapolis       51488\n",
       "Richmond          48845\n",
       "Oklahoma City     46092\n",
       "Jacksonville      42447\n",
       "Tucson            39304\n",
       "Columbia          38178\n",
       "Name: count, dtype: int64"
      ]
     },
     "execution_count": 18,
     "metadata": {},
     "output_type": "execute_result"
    }
   ],
   "source": [
    "cities_by_accident[:20]"
   ]
  },
  {
   "cell_type": "code",
   "execution_count": 19,
   "id": "75556a61-5408-417c-8559-d30828e18dac",
   "metadata": {},
   "outputs": [
    {
     "data": {
      "text/plain": [
       "<Axes: ylabel='City'>"
      ]
     },
     "execution_count": 19,
     "metadata": {},
     "output_type": "execute_result"
    },
    {
     "data": {
      "image/png": "[encoded data removed]",
      "text/plain": [
       "<Figure size 432x288 with 1 Axes>"
      ]
     },
     "metadata": {},
     "output_type": "display_data"
    }
   ],
   "source": [
    "cities_by_accident[:20].plot(kind=\"barh\")"
   ]
  },
  {
   "cell_type": "code",
   "execution_count": 21,
   "id": "0f3f40d9-8b4c-48fd-a1db-0051be8194be",
   "metadata": {},
   "outputs": [],
   "source": [
    "sns.set_style(\"darkgrid\")"
   ]
  },
  {
   "cell_type": "code",
   "execution_count": 22,
   "id": "a62403b8-5254-4eb9-b566-206cbe6eeab2",
   "metadata": {},
   "outputs": [
    {
     "name": "stderr",
     "output_type": "stream",
     "text": [
      "C:\\Users\\bchal\\AppData\\Local\\Temp\\ipykernel_21048\\3405282844.py:1: UserWarning: \n",
      "\n",
      "`distplot` is a deprecated function and will be removed in seaborn v0.14.0.\n",
      "\n",
      "Please adapt your code to use either `displot` (a figure-level function with\n",
      "similar flexibility) or `histplot` (an axes-level function for histograms).\n",
      "\n",
      "For a guide to updating your code to use the new functions, please see\n",
      "https://gist.github.com/mwaskom/de44147ed2974457ad6372750bbe5751\n",
      "\n",
      "  sns.distplot(cities_by_accident)\n"
     ]
    },
    {
     "data": {
      "text/plain": [
       "<Axes: xlabel='count', ylabel='Density'>"
      ]
     },
     "execution_count": 22,
     "metadata": {},
     "output_type": "execute_result"
    },
    {
     "data": {
      "image/png": "[encoded data removed]",
      "text/plain": [
       "<Figure size 432x288 with 1 Axes>"
      ]
     },
     "metadata": {},
     "output_type": "display_data"
    }
   ],
   "source": [
    "sns.distplot(cities_by_accident)"
   ]
  },
  {
   "cell_type": "code",
   "execution_count": 23,
   "id": "43cf0eab-fecd-4b9f-bcbd-41d9ae9b6a67",
   "metadata": {},
   "outputs": [
    {
     "data": {
      "text/plain": [
       "1218"
      ]
     },
     "execution_count": 23,
     "metadata": {},
     "output_type": "execute_result"
    }
   ],
   "source": [
    "highest_cities_accident= cities_by_accident[cities_by_accident >=1000]\n",
    "len(highest_cities_accident)"
   ]
  },
  {
   "cell_type": "code",
   "execution_count": 24,
   "id": "5a09ca3c-8daa-4ffa-a1a6-332d7e8a9999",
   "metadata": {},
   "outputs": [
    {
     "name": "stderr",
     "output_type": "stream",
     "text": [
      "C:\\Users\\bchal\\AppData\\Local\\Temp\\ipykernel_21048\\498305691.py:1: UserWarning: \n",
      "\n",
      "`distplot` is a deprecated function and will be removed in seaborn v0.14.0.\n",
      "\n",
      "Please adapt your code to use either `displot` (a figure-level function with\n",
      "similar flexibility) or `histplot` (an axes-level function for histograms).\n",
      "\n",
      "For a guide to updating your code to use the new functions, please see\n",
      "https://gist.github.com/mwaskom/de44147ed2974457ad6372750bbe5751\n",
      "\n",
      "  sns.distplot(highest_cities_accident)\n"
     ]
    },
    {
     "data": {
      "text/plain": [
       "<Axes: xlabel='count', ylabel='Density'>"
      ]
     },
     "execution_count": 24,
     "metadata": {},
     "output_type": "execute_result"
    },
    {
     "data": {
      "image/png": "[encoded data removed]",
      "text/plain": [
       "<Figure size 432x288 with 1 Axes>"
      ]
     },
     "metadata": {},
     "output_type": "display_data"
    }
   ],
   "source": [
    "sns.distplot(highest_cities_accident)"
   ]
  },
  {
   "cell_type": "code",
   "execution_count": 25,
   "id": "7f621156-05ae-4c5b-84ec-cd26fd53b1aa",
   "metadata": {},
   "outputs": [
    {
     "data": {
      "text/plain": [
       "0.08904159660793917"
      ]
     },
     "execution_count": 25,
     "metadata": {},
     "output_type": "execute_result"
    }
   ],
   "source": [
    "len(highest_cities_accident) / len(cities)"
   ]
  },
  {
   "cell_type": "code",
   "execution_count": 26,
   "id": "c53fc308-b396-4d1d-9c02-acba6a19ae4f",
   "metadata": {},
   "outputs": [
    {
     "data": {
      "text/plain": [
       "12460"
      ]
     },
     "execution_count": 26,
     "metadata": {},
     "output_type": "execute_result"
    }
   ],
   "source": [
    "lowest_cities_accident= cities_by_accident[cities_by_accident <1000]\n",
    "len(lowest_cities_accident)"
   ]
  },
  {
   "cell_type": "code",
   "execution_count": 27,
   "id": "6153f602-0729-42c9-b8a1-5cc118f16642",
   "metadata": {},
   "outputs": [
    {
     "name": "stderr",
     "output_type": "stream",
     "text": [
      "C:\\Users\\bchal\\AppData\\Local\\Temp\\ipykernel_21048\\3397864553.py:1: UserWarning: \n",
      "\n",
      "`distplot` is a deprecated function and will be removed in seaborn v0.14.0.\n",
      "\n",
      "Please adapt your code to use either `displot` (a figure-level function with\n",
      "similar flexibility) or `histplot` (an axes-level function for histograms).\n",
      "\n",
      "For a guide to updating your code to use the new functions, please see\n",
      "https://gist.github.com/mwaskom/de44147ed2974457ad6372750bbe5751\n",
      "\n",
      "  sns.distplot(lowest_cities_accident)\n"
     ]
    },
    {
     "data": {
      "text/plain": [
       "<Axes: xlabel='count', ylabel='Density'>"
      ]
     },
     "execution_count": 27,
     "metadata": {},
     "output_type": "execute_result"
    },
    {
     "data": {
      "image/png": "[encoded data removed]",
      "text/plain": [
       "<Figure size 432x288 with 1 Axes>"
      ]
     },
     "metadata": {},
     "output_type": "display_data"
    }
   ],
   "source": [
    "sns.distplot(lowest_cities_accident)"
   ]
  },
  {
   "cell_type": "code",
   "execution_count": 28,
   "id": "e34fa0c6-d4e7-4c87-b6b4-e3bf380a4b1f",
   "metadata": {},
   "outputs": [
    {
     "data": {
      "text/plain": [
       "0.910885298632941"
      ]
     },
     "execution_count": 28,
     "metadata": {},
     "output_type": "execute_result"
    }
   ],
   "source": [
    "len(lowest_cities_accident) / len(cities)"
   ]
  },
  {
   "cell_type": "code",
   "execution_count": 29,
   "id": "9ff90d4c-67a0-49ca-8d19-1417ed0fb0b1",
   "metadata": {},
   "outputs": [
    {
     "data": {
      "text/plain": [
       "<Axes: xlabel='count', ylabel='Count'>"
      ]
     },
     "execution_count": 29,
     "metadata": {},
     "output_type": "execute_result"
    },
    {
     "data": {
      "image/png": "[encoded data removed]",
      "text/plain": [
       "<Figure size 432x288 with 1 Axes>"
      ]
     },
     "metadata": {},
     "output_type": "display_data"
    }
   ],
   "source": [
    "sns.histplot(cities_by_accident , log_scale=True)"
   ]
  },
  {
   "cell_type": "code",
   "execution_count": 30,
   "id": "91d404eb-c528-45c2-85f0-327d6a3e45c0",
   "metadata": {},
   "outputs": [
    {
     "data": {
      "text/plain": [
       "City\n",
       "Lake Andes                      1\n",
       "Catoctin                        1\n",
       "Duck Hill                       1\n",
       "Westbrookville                  1\n",
       "Saint Croix                     1\n",
       "                               ..\n",
       "Benkelman                       1\n",
       "Old Appleton                    1\n",
       "Wildrose                        1\n",
       "Mc Nabb                         1\n",
       "American Fork-Pleasant Grove    1\n",
       "Name: count, Length: 1023, dtype: int64"
      ]
     },
     "execution_count": 30,
     "metadata": {},
     "output_type": "execute_result"
    }
   ],
   "source": [
    "cities_by_accident[cities_by_accident ==1]"
   ]
  },
  {
   "cell_type": "code",
   "execution_count": 31,
   "id": "ccdac8b4-28ad-4d7d-b116-8d92e35f4e6b",
   "metadata": {},
   "outputs": [
    {
     "data": {
      "text/plain": [
       "0          2016-02-08 05:46:00\n",
       "1          2016-02-08 06:07:59\n",
       "2          2016-02-08 06:49:27\n",
       "3          2016-02-08 07:23:34\n",
       "4          2016-02-08 07:39:07\n",
       "                  ...         \n",
       "7728389    2019-08-23 18:03:25\n",
       "7728390    2019-08-23 19:11:30\n",
       "7728391    2019-08-23 19:00:21\n",
       "7728392    2019-08-23 19:00:21\n",
       "7728393    2019-08-23 18:52:06\n",
       "Name: Start_Time, Length: 7728394, dtype: object"
      ]
     },
     "execution_count": 31,
     "metadata": {},
     "output_type": "execute_result"
    }
   ],
   "source": [
    "df.Start_Time"
   ]
  },
  {
   "cell_type": "code",
   "execution_count": 32,
   "id": "74b89fa6-1933-4a35-a042-a2258aea05be",
   "metadata": {},
   "outputs": [],
   "source": [
    "df['Start_Time'] = pd.to_datetime(df['Start_Time'], errors='coerce')"
   ]
  },
  {
   "cell_type": "code",
   "execution_count": 33,
   "id": "3bd6d9fa-5471-4cac-a580-0a1cf97d9b75",
   "metadata": {},
   "outputs": [
    {
     "data": {
      "text/plain": [
       "Timestamp('2016-02-08 05:46:00')"
      ]
     },
     "execution_count": 33,
     "metadata": {},
     "output_type": "execute_result"
    }
   ],
   "source": [
    "df.Start_Time[0]"
   ]
  },
  {
   "cell_type": "code",
   "execution_count": 34,
   "id": "11b67c5a-2196-4a1e-ac51-bd2ed87417b0",
   "metadata": {},
   "outputs": [
    {
     "name": "stderr",
     "output_type": "stream",
     "text": [
      "C:\\Users\\bchal\\AppData\\Local\\Temp\\ipykernel_21048\\1756728629.py:1: UserWarning: \n",
      "\n",
      "`distplot` is a deprecated function and will be removed in seaborn v0.14.0.\n",
      "\n",
      "Please adapt your code to use either `displot` (a figure-level function with\n",
      "similar flexibility) or `histplot` (an axes-level function for histograms).\n",
      "\n",
      "For a guide to updating your code to use the new functions, please see\n",
      "https://gist.github.com/mwaskom/de44147ed2974457ad6372750bbe5751\n",
      "\n",
      "  sns.distplot(df.Start_Time.dt.hour , bins =24 , norm_hist=True ,kde= False)\n"
     ]
    },
    {
     "data": {
      "text/plain": [
       "<Axes: xlabel='Start_Time'>"
      ]
     },
     "execution_count": 34,
     "metadata": {},
     "output_type": "execute_result"
    },
    {
     "data": {
      "image/png": "[encoded data removed]",
      "text/plain": [
       "<Figure size 432x288 with 1 Axes>"
      ]
     },
     "metadata": {},
     "output_type": "display_data"
    }
   ],
   "source": [
    "sns.distplot(df.Start_Time.dt.hour , bins =24 , norm_hist=True ,kde= False)"
   ]
  },
  {
   "cell_type": "code",
   "execution_count": 35,
   "id": "19384a47-fb92-4df4-8aa2-897a932f435d",
   "metadata": {},
   "outputs": [
    {
     "name": "stderr",
     "output_type": "stream",
     "text": [
      "C:\\Users\\bchal\\AppData\\Local\\Temp\\ipykernel_21048\\308908771.py:1: UserWarning: \n",
      "\n",
      "`distplot` is a deprecated function and will be removed in seaborn v0.14.0.\n",
      "\n",
      "Please adapt your code to use either `displot` (a figure-level function with\n",
      "similar flexibility) or `histplot` (an axes-level function for histograms).\n",
      "\n",
      "For a guide to updating your code to use the new functions, please see\n",
      "https://gist.github.com/mwaskom/de44147ed2974457ad6372750bbe5751\n",
      "\n",
      "  sns.distplot(df.Start_Time.dt.dayofweek, bins=7, kde=False, norm_hist=True)\n"
     ]
    },
    {
     "data": {
      "text/plain": [
       "<Axes: xlabel='Start_Time'>"
      ]
     },
     "execution_count": 35,
     "metadata": {},
     "output_type": "execute_result"
    },
    {
     "data": {
      "image/png": "[encoded data removed]",
      "text/plain": [
       "<Figure size 432x288 with 1 Axes>"
      ]
     },
     "metadata": {},
     "output_type": "display_data"
    }
   ],
   "source": [
    "sns.distplot(df.Start_Time.dt.dayofweek, bins=7, kde=False, norm_hist=True)"
   ]
  },
  {
   "cell_type": "code",
   "execution_count": 36,
   "id": "f6b39b4f-1d5b-40fc-b112-471dbc78eaa1",
   "metadata": {},
   "outputs": [
    {
     "name": "stderr",
     "output_type": "stream",
     "text": [
      "C:\\Users\\bchal\\AppData\\Local\\Temp\\ipykernel_21048\\3630331899.py:2: UserWarning: \n",
      "\n",
      "`distplot` is a deprecated function and will be removed in seaborn v0.14.0.\n",
      "\n",
      "Please adapt your code to use either `displot` (a figure-level function with\n",
      "similar flexibility) or `histplot` (an axes-level function for histograms).\n",
      "\n",
      "For a guide to updating your code to use the new functions, please see\n",
      "https://gist.github.com/mwaskom/de44147ed2974457ad6372750bbe5751\n",
      "\n",
      "  sns.distplot(sundays_start_time.dt.hour, bins=24, kde=False, norm_hist=True)\n"
     ]
    },
    {
     "data": {
      "text/plain": [
       "<Axes: xlabel='Start_Time'>"
      ]
     },
     "execution_count": 36,
     "metadata": {},
     "output_type": "execute_result"
    },
    {
     "data": {
      "image/png": "[encoded data removed]",
      "text/plain": [
       "<Figure size 432x288 with 1 Axes>"
      ]
     },
     "metadata": {},
     "output_type": "display_data"
    }
   ],
   "source": [
    "sundays_start_time = df.Start_Time[df.Start_Time.dt.dayofweek == 6]\n",
    "sns.distplot(sundays_start_time.dt.hour, bins=24, kde=False, norm_hist=True)"
   ]
  },
  {
   "cell_type": "code",
   "execution_count": 37,
   "id": "2ca467a6-b874-4988-85ae-73cb43f7c2dd",
   "metadata": {},
   "outputs": [
    {
     "name": "stderr",
     "output_type": "stream",
     "text": [
      "C:\\Users\\bchal\\AppData\\Local\\Temp\\ipykernel_21048\\4268565558.py:2: UserWarning: \n",
      "\n",
      "`distplot` is a deprecated function and will be removed in seaborn v0.14.0.\n",
      "\n",
      "Please adapt your code to use either `displot` (a figure-level function with\n",
      "similar flexibility) or `histplot` (an axes-level function for histograms).\n",
      "\n",
      "For a guide to updating your code to use the new functions, please see\n",
      "https://gist.github.com/mwaskom/de44147ed2974457ad6372750bbe5751\n",
      "\n",
      "  sns.distplot(monday_start_time.dt.hour, bins=24, kde=False, norm_hist=True)\n"
     ]
    },
    {
     "data": {
      "text/plain": [
       "<Axes: xlabel='Start_Time'>"
      ]
     },
     "execution_count": 37,
     "metadata": {},
     "output_type": "execute_result"
    },
    {
     "data": {
      "image/png": "[encoded data removed]",
      "text/plain": [
       "<Figure size 432x288 with 1 Axes>"
      ]
     },
     "metadata": {},
     "output_type": "display_data"
    }
   ],
   "source": [
    "monday_start_time = df.Start_Time[df.Start_Time.dt.dayofweek == 0]\n",
    "sns.distplot(monday_start_time.dt.hour, bins=24, kde=False, norm_hist=True)"
   ]
  },
  {
   "cell_type": "code",
   "execution_count": 38,
   "id": "364c349b-88dc-4287-93e5-a0357755eb8f",
   "metadata": {},
   "outputs": [
    {
     "data": {
      "text/plain": [
       "<seaborn.axisgrid.FacetGrid at 0x13a56d0e1e0>"
      ]
     },
     "execution_count": 38,
     "metadata": {},
     "output_type": "execute_result"
    },
    {
     "data": {
      "image/png": "[encoded data removed]",
      "text/plain": [
       "<Figure size 360x360 with 1 Axes>"
      ]
     },
     "metadata": {},
     "output_type": "display_data"
    }
   ],
   "source": [
    "df_2019 = df[df.Start_Time.dt.year == 2019]\n",
    "df_2019_Bing = df_2019[df_2019.Source == 'MapQuest']\n",
    "sns.displot(df_2019_Bing.Start_Time.dt.month, bins=12, kde=False, norm_hist=True)"
   ]
  },
  {
   "cell_type": "code",
   "execution_count": 39,
   "id": "8a7c4c25-7bb5-4fce-8740-e405f343494c",
   "metadata": {},
   "outputs": [
    {
     "data": {
      "text/plain": [
       "<Axes: ylabel='count'>"
      ]
     },
     "execution_count": 39,
     "metadata": {},
     "output_type": "execute_result"
    },
    {
     "data": {
      "image/png": "[encoded data removed]",
      "text/plain": [
       "<Figure size 432x288 with 1 Axes>"
      ]
     },
     "metadata": {},
     "output_type": "display_data"
    }
   ],
   "source": [
    "df.Source.value_counts().plot(kind='pie')"
   ]
  },
  {
   "cell_type": "code",
   "execution_count": 40,
   "id": "882c0dde-671b-4c6b-a6ab-7acf34318875",
   "metadata": {},
   "outputs": [
    {
     "data": {
      "text/plain": [
       "0          39.865147\n",
       "1          39.928059\n",
       "2          39.063148\n",
       "3          39.747753\n",
       "4          39.627781\n",
       "             ...    \n",
       "7728389    34.002480\n",
       "7728390    32.766960\n",
       "7728391    33.775450\n",
       "7728392    33.992460\n",
       "7728393    34.133930\n",
       "Name: Start_Lat, Length: 7728394, dtype: float64"
      ]
     },
     "execution_count": 40,
     "metadata": {},
     "output_type": "execute_result"
    }
   ],
   "source": [
    "df.Start_Lat"
   ]
  },
  {
   "cell_type": "code",
   "execution_count": 42,
   "id": "d68495d1-2fe0-48aa-972e-db34e083fdd6",
   "metadata": {},
   "outputs": [
    {
     "data": {
      "text/plain": [
       "<Axes: xlabel='Start_Lng', ylabel='Start_Lat'>"
      ]
     },
     "execution_count": 42,
     "metadata": {},
     "output_type": "execute_result"
    },
    {
     "data": {
      "image/png": "[encoded data removed]",
      "text/plain": [
       "<Figure size 432x288 with 1 Axes>"
      ]
     },
     "metadata": {},
     "output_type": "display_data"
    }
   ],
   "source": [
    "sample_df = df.sample(int(0.1 *len(df)))\n",
    "sns.scatterplot(x=sample_df.Start_Lng,y= sample_df.Start_Lat)"
   ]
  },
  {
   "cell_type": "code",
   "execution_count": 45,
   "id": "fda99485-2e30-4247-ad11-51065f29c70f",
   "metadata": {},
   "outputs": [
    {
     "data": {
      "text/plain": [
       "(39.865147, -84.058723)"
      ]
     },
     "execution_count": 45,
     "metadata": {},
     "output_type": "execute_result"
    }
   ],
   "source": [
    "lat, lon = df.Start_Lat[0], df.Start_Lng[0]\n",
    "lat, lon"
   ]
  },
  {
   "cell_type": "code",
   "execution_count": 46,
   "id": "37f12846-2d86-402f-a3d1-2ca4fbc4d01d",
   "metadata": {},
   "outputs": [
    {
     "name": "stdout",
     "output_type": "stream",
     "text": [
      "5164415    33.462697\n",
      "6909446    38.860584\n",
      "4817590    32.827772\n",
      "844024     33.396790\n",
      "5180275    33.653034\n",
      "             ...    \n",
      "3255731    35.388496\n",
      "710303     40.305580\n",
      "271108     30.443552\n",
      "406566     34.043037\n",
      "2427554    36.153225\n",
      "Name: Start_Lat, Length: 100, dtype: float64\n",
      "5164415   -112.182515\n",
      "6909446    -77.355648\n",
      "4817590    -97.382812\n",
      "844024     -81.026932\n",
      "5180275   -117.907553\n",
      "              ...    \n",
      "3255731   -114.253517\n",
      "710303     -83.068939\n",
      "271108     -97.707764\n",
      "406566    -118.217239\n",
      "2427554    -86.756248\n",
      "Name: Start_Lng, Length: 100, dtype: float64\n"
     ]
    }
   ],
   "source": [
    "for x in df[['Start_Lat', 'Start_Lng']].sample(100).items():\n",
    "    print(x[1])"
   ]
  },
  {
   "cell_type": "code",
   "execution_count": null,
   "id": "507e67a5-b1f9-44a6-bc8d-1ada194a8c93",
   "metadata": {},
   "outputs": [],
   "source": []
  }
 ],
 "metadata": {
  "kernelspec": {
   "display_name": "Python 3 (Spyder)",
   "language": "python3",
   "name": "python3"
  },
  "language_info": {
   "codemirror_mode": {
    "name": "ipython",
    "version": 3
   },
   "file_extension": ".py",
   "mimetype": "text/x-python",
   "name": "python",
   "nbconvert_exporter": "python",
   "pygments_lexer": "ipython3",
   "version": "3.12.3"
  }
 },
 "nbformat": 4,
 "nbformat_minor": 5
}
